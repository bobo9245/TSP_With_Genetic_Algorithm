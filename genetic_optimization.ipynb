{
 "cells": [
  {
   "cell_type": "code",
   "execution_count": 1,
   "metadata": {},
   "outputs": [],
   "source": [
    "import torch\n",
    "import random\n",
    "import csv\n",
    "import time\n",
    "from tqdm import tqdm  # tqdm을 import합니다.\n",
    "\n",
    "device = torch.device(\"mps\")\n",
    "\n",
    "def read_csv_file(file_path):\n",
    "    with open(file_path, mode='r', newline='') as file:\n",
    "        data = [list(map(float, row)) for row in csv.reader(file)]\n",
    "        tensor_data = torch.tensor(data, dtype=torch.float32).to(device)\n",
    "    return tensor_data"
   ]
  },
  {
   "cell_type": "code",
   "execution_count": 2,
   "metadata": {},
   "outputs": [],
   "source": [
    "def path_length(cities, path):\n",
    "    path_cities = cities[path]\n",
    "    rolled_cities = torch.roll(path_cities, -1, dims=0)\n",
    "    return torch.norm(path_cities - rolled_cities, dim=1).sum()\n",
    "\n",
    "def create_population(num_cities, population_size):\n",
    "    return torch.stack([torch.roll(torch.arange(num_cities, device=device), -i) for i in range(population_size)])\n"
   ]
  },
  {
   "cell_type": "code",
   "execution_count": 3,
   "metadata": {},
   "outputs": [],
   "source": [
    "def edge_recombination_crossover(parent1, parent2):\n",
    "    size = len(parent1)\n",
    "    adjacency = [set() for _ in range(size)]\n",
    "    for p in [parent1, parent2]:\n",
    "        for i in range(size):\n",
    "            adjacency[p[i]].update([p[(i-1) % size], p[(i+1) % size]])\n",
    "    \n",
    "    child = []\n",
    "    current = parent1[random.randint(0, size-1)]\n",
    "    while len(child) < size:\n",
    "        child.append(current.item())\n",
    "        if len(child) == size:\n",
    "            break\n",
    "        next_city_candidates = list(adjacency[current] - set(child))\n",
    "        if next_city_candidates:\n",
    "            current = min(next_city_candidates, key=lambda x: len(adjacency[x]))\n",
    "        else:\n",
    "            remaining = list(set(range(size)) - set(child))\n",
    "            current = random.choice(remaining)\n",
    "    return torch.tensor(child, device=device)"
   ]
  },
  {
   "cell_type": "code",
   "execution_count": 4,
   "metadata": {},
   "outputs": [],
   "source": [
    "def scramble_mutation(path, mutation_rate):\n",
    "    if random.random() < mutation_rate:\n",
    "        size = len(path)\n",
    "        start, end = sorted(random.sample(range(size), 2))\n",
    "        path[start:end + 1] = path[torch.randperm(end + 1 - start) + start]\n",
    "    return path\n",
    "\n",
    "def select_parents(population, scores, tournament_size):\n",
    "    tournament_indices = torch.randperm(len(population), device=device)[:tournament_size]\n",
    "    tournament_scores = scores[tournament_indices]\n",
    "    parents_indices = tournament_indices[tournament_scores.argsort()[:2]]\n",
    "    return population[parents_indices[0]], population[parents_indices[1]]"
   ]
  },
  {
   "cell_type": "code",
   "execution_count": 5,
   "metadata": {},
   "outputs": [],
   "source": [
    "def genetic_algorithm_tsp(cities, population_size=100, generations=500, mutation_rate=0.01, tournament_size=5):\n",
    "    num_cities = cities.size(0)\n",
    "    population = create_population(num_cities, population_size)\n",
    "    scores = torch.stack([path_length(cities, p) for p in population])\n",
    "\n",
    "    for generation in tqdm(range(generations), desc=\"Evolving Generations\"):\n",
    "        new_population = []\n",
    "        for _ in range(population_size // 2):\n",
    "            parent1, parent2 = select_parents(population, scores, tournament_size)\n",
    "            child1 = scramble_mutation(edge_recombination_crossover(parent1, parent2), mutation_rate)\n",
    "            child2 = scramble_mutation(edge_recombination_crossover(parent2, parent1), mutation_rate)\n",
    "            new_population.extend([child1, child2])\n",
    "        \n",
    "        new_population = torch.stack(new_population)\n",
    "        new_scores = torch.stack([path_length(cities, p) for p in new_population])\n",
    "        combined_population = torch.cat((population, new_population))\n",
    "        combined_scores = torch.cat((scores, new_scores))\n",
    "        best_indices = combined_scores.argsort()[:population_size]\n",
    "        population, scores = combined_population[best_indices], combined_scores[best_indices]\n",
    "\n",
    "    best_index = scores.argmin()\n",
    "    return population[best_index], scores[best_index]"
   ]
  },
  {
   "cell_type": "code",
   "execution_count": 6,
   "metadata": {},
   "outputs": [
    {
     "name": "stderr",
     "output_type": "stream",
     "text": [
      "Evolving Generations:   4%|▎         | 18/500 [33:25<15:14:46, 113.87s/it]"
     ]
    }
   ],
   "source": [
    "# 파일에서 도시 데이터 읽기 및 유전 알고리즘 실행\n",
    "cities = read_csv_file('2024_AI_TSP.csv')\n",
    "start_time = time.time()\n",
    "best_path, best_score = genetic_algorithm_tsp(cities)\n",
    "print(f\"Best path found with total distance: {best_score}\")\n",
    "print(f\"Path: {best_path}\")\n",
    "print(f\"Execution time: {time.time() - start_time}\")\n"
   ]
  },
  {
   "cell_type": "code",
   "execution_count": null,
   "metadata": {},
   "outputs": [],
   "source": [
    "import matplotlib.pyplot as plt\n",
    "\n",
    "def plot_path(cities, path):\n",
    "    # 도시의 위치를 추출\n",
    "    x = cities[:, 0].cpu().numpy()  # GPU 또는 기타 장치에서 계산된 데이터를 CPU로 옮긴 후 NumPy 배열로 변환\n",
    "    y = cities[:, 1].cpu().numpy()\n",
    "\n",
    "    # 경로에 따라 도시를 연결\n",
    "    path_x = [x[i] for i in path]\n",
    "    path_y = [y[i] for i in path]\n",
    "    path_x.append(x[path[0]])  # 경로의 마지막을 시작점으로 연결\n",
    "    path_y.append(y[path[0]])\n",
    "\n",
    "    # 산점도로 도시 위치 표시\n",
    "    plt.scatter(x, y, color='blue', label='Cities')\n",
    "    \n",
    "    # 경로 표시\n",
    "    plt.plot(path_x, path_y, color='red', label='Path', marker='o')\n",
    "    \n",
    "    # 시작 도시 표시\n",
    "    plt.scatter([x[path[0]]], [y[path[0]]], color='green', s=100, label='Start City')\n",
    "    \n",
    "    # 플롯 레이블 및 제목 추가\n",
    "    plt.title('Traveling Salesman Path')\n",
    "    plt.xlabel('X Coordinate')\n",
    "    plt.ylabel('Y Coordinate')\n",
    "    plt.legend()\n",
    "    \n",
    "    # 플롯 표시\n",
    "    plt.grid(True)  # 격자 보이기\n",
    "    plt.show()\n",
    "\n",
    "# 시각화 함수 실행\n",
    "plot_path(cities, best_path.tolist())\n"
   ]
  }
 ],
 "metadata": {
  "kernelspec": {
   "display_name": "py39",
   "language": "python",
   "name": "python3"
  },
  "language_info": {
   "codemirror_mode": {
    "name": "ipython",
    "version": 3
   },
   "file_extension": ".py",
   "mimetype": "text/x-python",
   "name": "python",
   "nbconvert_exporter": "python",
   "pygments_lexer": "ipython3",
   "version": "3.9.19"
  }
 },
 "nbformat": 4,
 "nbformat_minor": 2
}
