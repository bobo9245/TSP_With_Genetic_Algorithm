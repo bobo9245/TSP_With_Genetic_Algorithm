{
 "cells": [
  {
   "cell_type": "code",
   "execution_count": 7,
   "metadata": {},
   "outputs": [],
   "source": [
    "import torch\n",
    "import random\n",
    "import csv\n",
    "import time\n",
    "from tqdm import tqdm\n",
    "\n",
    "\n",
    "device = torch.device(\"mps\")\n",
    "# device = torch.device(\"cuda\" if torch.cuda.is_available else \"mps\" if torch.backends.mps.is_available() else \"cpu\")\n",
    "\n",
    "def read_csv_file(file_path):\n",
    "    with open(file_path, mode='r', newline='') as file:\n",
    "        data = [list(map(float, row)) for row in csv.reader(file)]\n",
    "        tensor_data = torch.tensor(data, dtype=torch.float32).to(device)\n",
    "    return tensor_data"
   ]
  },
  {
   "cell_type": "code",
   "execution_count": 8,
   "metadata": {},
   "outputs": [],
   "source": [
    "def path_length(cities, path):\n",
    "    path_cities = cities[path]\n",
    "    rolled_cities = torch.roll(path_cities, -1, dims=0)\n",
    "    return torch.norm(path_cities - rolled_cities, dim=1).sum()\n",
    "\n",
    "def create_population(num_cities, population_size):\n",
    "    return torch.stack([torch.roll(torch.arange(num_cities, device=device), -i) for i in range(population_size)])\n"
   ]
  },
  {
   "cell_type": "code",
   "execution_count": 9,
   "metadata": {},
   "outputs": [],
   "source": [
    "def edge_recombination_crossover(parent1, parent2):\n",
    "    size = len(parent1)\n",
    "    adjacency = [set() for _ in range(size)]\n",
    "    for p in [parent1, parent2]:\n",
    "        for i in range(size):\n",
    "            adjacency[p[i]].update([p[(i-1) % size], p[(i+1) % size]])\n",
    "    \n",
    "    child = []\n",
    "    current = parent1[random.randint(0, size-1)]\n",
    "    while len(child) < size:\n",
    "        child.append(current.item())\n",
    "        if len(child) == size:\n",
    "            break\n",
    "        next_city_candidates = list(adjacency[current] - set(child))\n",
    "        if next_city_candidates:\n",
    "            current = min(next_city_candidates, key=lambda x: len(adjacency[x]))\n",
    "        else:\n",
    "            remaining = list(set(range(size)) - set(child))\n",
    "            current = random.choice(remaining)\n",
    "    return torch.tensor(child, device=device)"
   ]
  },
  {
   "cell_type": "code",
   "execution_count": 10,
   "metadata": {},
   "outputs": [],
   "source": [
    "def scramble_mutation(path, mutation_rate):\n",
    "    if random.random() < mutation_rate:\n",
    "        size = len(path)\n",
    "        start, end = sorted(random.sample(range(size), 2))\n",
    "        path[start:end + 1] = path[torch.randperm(end + 1 - start) + start]\n",
    "    return path\n",
    "\n",
    "def select_parents(population, scores, tournament_size):\n",
    "    tournament_indices = torch.randperm(len(population), device=device)[:tournament_size]\n",
    "    tournament_scores = scores[tournament_indices]\n",
    "    parents_indices = tournament_indices[tournament_scores.argsort()[:2]]\n",
    "    return population[parents_indices[0]], population[parents_indices[1]]"
   ]
  },
  {
   "cell_type": "code",
   "execution_count": 11,
   "metadata": {},
   "outputs": [],
   "source": [
    "def genetic_algorithm_tsp(cities, population_size=100, generations=10, mutation_rate=0.01, tournament_size=5):\n",
    "    num_cities = cities.size(0)\n",
    "    population = create_population(num_cities, population_size)\n",
    "    scores = torch.stack([path_length(cities, p) for p in population])\n",
    "\n",
    "    for generation in tqdm(range(generations), desc=\"Evolving Generations\"):\n",
    "        new_population = []\n",
    "        for _ in range(population_size // 2):\n",
    "            parent1, parent2 = select_parents(population, scores, tournament_size)\n",
    "            child1 = scramble_mutation(edge_recombination_crossover(parent1, parent2), mutation_rate)\n",
    "            child2 = scramble_mutation(edge_recombination_crossover(parent2, parent1), mutation_rate)\n",
    "            new_population.extend([child1, child2])\n",
    "        \n",
    "        new_population = torch.stack(new_population)\n",
    "        new_scores = torch.stack([path_length(cities, p) for p in new_population])\n",
    "        combined_population = torch.cat((population, new_population))\n",
    "        combined_scores = torch.cat((scores, new_scores))\n",
    "        best_indices = combined_scores.argsort()[:population_size]\n",
    "        population, scores = combined_population[best_indices], combined_scores[best_indices]\n",
    "\n",
    "    best_index = scores.argmin()\n",
    "    return population[best_index], scores[best_index]"
   ]
  },
  {
   "cell_type": "code",
   "execution_count": 12,
   "metadata": {},
   "outputs": [
    {
     "name": "stderr",
     "output_type": "stream",
     "text": [
      "Evolving Generations:   0%|          | 0/500 [00:58<?, ?it/s]\n"
     ]
    },
    {
     "ename": "KeyboardInterrupt",
     "evalue": "",
     "output_type": "error",
     "traceback": [
      "\u001b[0;31m---------------------------------------------------------------------------\u001b[0m",
      "\u001b[0;31mKeyboardInterrupt\u001b[0m                         Traceback (most recent call last)",
      "Cell \u001b[0;32mIn[12], line 4\u001b[0m\n\u001b[1;32m      2\u001b[0m cities \u001b[38;5;241m=\u001b[39m read_csv_file(\u001b[38;5;124m'\u001b[39m\u001b[38;5;124m2024_AI_TSP.csv\u001b[39m\u001b[38;5;124m'\u001b[39m)\n\u001b[1;32m      3\u001b[0m start_time \u001b[38;5;241m=\u001b[39m time\u001b[38;5;241m.\u001b[39mtime()\n\u001b[0;32m----> 4\u001b[0m best_path, best_score \u001b[38;5;241m=\u001b[39m \u001b[43mgenetic_algorithm_tsp\u001b[49m\u001b[43m(\u001b[49m\u001b[43mcities\u001b[49m\u001b[43m)\u001b[49m\n\u001b[1;32m      5\u001b[0m \u001b[38;5;28mprint\u001b[39m(\u001b[38;5;124mf\u001b[39m\u001b[38;5;124m\"\u001b[39m\u001b[38;5;124mBest path found with total distance: \u001b[39m\u001b[38;5;132;01m{\u001b[39;00mbest_score\u001b[38;5;132;01m}\u001b[39;00m\u001b[38;5;124m\"\u001b[39m)\n\u001b[1;32m      6\u001b[0m \u001b[38;5;28mprint\u001b[39m(\u001b[38;5;124mf\u001b[39m\u001b[38;5;124m\"\u001b[39m\u001b[38;5;124mPath: \u001b[39m\u001b[38;5;132;01m{\u001b[39;00mbest_path\u001b[38;5;132;01m}\u001b[39;00m\u001b[38;5;124m\"\u001b[39m)\n",
      "Cell \u001b[0;32mIn[11], line 11\u001b[0m, in \u001b[0;36mgenetic_algorithm_tsp\u001b[0;34m(cities, population_size, generations, mutation_rate, tournament_size)\u001b[0m\n\u001b[1;32m      9\u001b[0m     parent1, parent2 \u001b[38;5;241m=\u001b[39m select_parents(population, scores, tournament_size)\n\u001b[1;32m     10\u001b[0m     child1 \u001b[38;5;241m=\u001b[39m scramble_mutation(edge_recombination_crossover(parent1, parent2), mutation_rate)\n\u001b[0;32m---> 11\u001b[0m     child2 \u001b[38;5;241m=\u001b[39m scramble_mutation(\u001b[43medge_recombination_crossover\u001b[49m\u001b[43m(\u001b[49m\u001b[43mparent2\u001b[49m\u001b[43m,\u001b[49m\u001b[43m \u001b[49m\u001b[43mparent1\u001b[49m\u001b[43m)\u001b[49m, mutation_rate)\n\u001b[1;32m     12\u001b[0m     new_population\u001b[38;5;241m.\u001b[39mextend([child1, child2])\n\u001b[1;32m     14\u001b[0m new_population \u001b[38;5;241m=\u001b[39m torch\u001b[38;5;241m.\u001b[39mstack(new_population)\n",
      "Cell \u001b[0;32mIn[9], line 16\u001b[0m, in \u001b[0;36medge_recombination_crossover\u001b[0;34m(parent1, parent2)\u001b[0m\n\u001b[1;32m     14\u001b[0m next_city_candidates \u001b[38;5;241m=\u001b[39m \u001b[38;5;28mlist\u001b[39m(adjacency[current] \u001b[38;5;241m-\u001b[39m \u001b[38;5;28mset\u001b[39m(child))\n\u001b[1;32m     15\u001b[0m \u001b[38;5;28;01mif\u001b[39;00m next_city_candidates:\n\u001b[0;32m---> 16\u001b[0m     current \u001b[38;5;241m=\u001b[39m \u001b[38;5;28;43mmin\u001b[39;49m\u001b[43m(\u001b[49m\u001b[43mnext_city_candidates\u001b[49m\u001b[43m,\u001b[49m\u001b[43m \u001b[49m\u001b[43mkey\u001b[49m\u001b[38;5;241;43m=\u001b[39;49m\u001b[38;5;28;43;01mlambda\u001b[39;49;00m\u001b[43m \u001b[49m\u001b[43mx\u001b[49m\u001b[43m:\u001b[49m\u001b[43m \u001b[49m\u001b[38;5;28;43mlen\u001b[39;49m\u001b[43m(\u001b[49m\u001b[43madjacency\u001b[49m\u001b[43m[\u001b[49m\u001b[43mx\u001b[49m\u001b[43m]\u001b[49m\u001b[43m)\u001b[49m\u001b[43m)\u001b[49m\n\u001b[1;32m     17\u001b[0m \u001b[38;5;28;01melse\u001b[39;00m:\n\u001b[1;32m     18\u001b[0m     remaining \u001b[38;5;241m=\u001b[39m \u001b[38;5;28mlist\u001b[39m(\u001b[38;5;28mset\u001b[39m(\u001b[38;5;28mrange\u001b[39m(size)) \u001b[38;5;241m-\u001b[39m \u001b[38;5;28mset\u001b[39m(child))\n",
      "Cell \u001b[0;32mIn[9], line 16\u001b[0m, in \u001b[0;36medge_recombination_crossover.<locals>.<lambda>\u001b[0;34m(x)\u001b[0m\n\u001b[1;32m     14\u001b[0m next_city_candidates \u001b[38;5;241m=\u001b[39m \u001b[38;5;28mlist\u001b[39m(adjacency[current] \u001b[38;5;241m-\u001b[39m \u001b[38;5;28mset\u001b[39m(child))\n\u001b[1;32m     15\u001b[0m \u001b[38;5;28;01mif\u001b[39;00m next_city_candidates:\n\u001b[0;32m---> 16\u001b[0m     current \u001b[38;5;241m=\u001b[39m \u001b[38;5;28mmin\u001b[39m(next_city_candidates, key\u001b[38;5;241m=\u001b[39m\u001b[38;5;28;01mlambda\u001b[39;00m x: \u001b[38;5;28mlen\u001b[39m(\u001b[43madjacency\u001b[49m\u001b[43m[\u001b[49m\u001b[43mx\u001b[49m\u001b[43m]\u001b[49m))\n\u001b[1;32m     17\u001b[0m \u001b[38;5;28;01melse\u001b[39;00m:\n\u001b[1;32m     18\u001b[0m     remaining \u001b[38;5;241m=\u001b[39m \u001b[38;5;28mlist\u001b[39m(\u001b[38;5;28mset\u001b[39m(\u001b[38;5;28mrange\u001b[39m(size)) \u001b[38;5;241m-\u001b[39m \u001b[38;5;28mset\u001b[39m(child))\n",
      "\u001b[0;31mKeyboardInterrupt\u001b[0m: "
     ]
    }
   ],
   "source": [
    "# 파일에서 도시 데이터 읽기 및 유전 알고리즘 실행\n",
    "cities = read_csv_file('2024_AI_TSP.csv')\n",
    "start_time = time.time()\n",
    "best_path, best_score = genetic_algorithm_tsp(cities)\n",
    "print(f\"Best path found with total distance: {best_score}\")\n",
    "print(f\"Path: {best_path}\")\n",
    "print(f\"Execution time: {time.time() - start_time}\")"
   ]
  }
 ],
 "metadata": {
  "kernelspec": {
   "display_name": "py39",
   "language": "python",
   "name": "python3"
  },
  "language_info": {
   "codemirror_mode": {
    "name": "ipython",
    "version": 3
   },
   "file_extension": ".py",
   "mimetype": "text/x-python",
   "name": "python",
   "nbconvert_exporter": "python",
   "pygments_lexer": "ipython3",
   "version": "3.9.19"
  }
 },
 "nbformat": 4,
 "nbformat_minor": 2
}
