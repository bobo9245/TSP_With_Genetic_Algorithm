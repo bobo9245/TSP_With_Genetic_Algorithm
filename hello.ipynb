import math
import random
import heapq
from multiprocessing import Pool

# 도시 클래스
class City:
    def __init__(self, x, y):
        self.x = x
        self.y = y

    def manhattan_distance(self, city):
        return abs(self.x - city.x) + abs(self.y - city.y)

    def __hash__(self):
        return hash((self.x, self.y))

    def __eq__(self, other):
        return self.x == other.x and self.y == other.y

# A* 알고리즘 (manhattan 거리 사용)
def a_star(start, goal, cities, distances):
    open_set = [(0 + start.manhattan_distance(goal), start)]
    came_from = {}
    g_score = {city: float('inf') for city in cities}
    g_score[start] = 0

    while open_set:
        current_g_score, current = heapq.heappop(open_set)

        if current == goal:
            path = [current]
            while current in came_from:
                current = came_from[current]
                path.append(current)
            path.reverse()
            return path

        if current_g_score > g_score[current]:
            continue

        for neighbor in cities:
            tentative_g_score = g_score[current] + distances[current, neighbor]

            if tentative_g_score < g_score[neighbor]:
                came_from[neighbor] = current
                g_score[neighbor] = tentative_g_score
                f_score = tentative_g_score + neighbor.manhattan_distance(goal)
                heapq.heappush(open_set, (f_score, neighbor))

    return []

# 유전 알고리즘 (GA)
def genetic_algorithm(cities, distances, population_size, num_generations, pool):
    population = initialize_population(cities, population_size, distances, pool)
    best_solution = min(population, key=lambda path: path_distance(path, distances))

    no_improvement_count = 0
    max_no_improvement = 100

    for generation in range(num_generations):
        new_population = []

        # 엘리트 선택
        new_population.append(best_solution)

        # 선택, 교차, 변이 연산 (병렬 처리)
        args = [(parent1, parent2, cities, distances) for parent1, parent2 in
                zip(select_parents(population, distances, pool, population_size - 1),
                    select_parents(population, distances, pool, population_size - 1))]
        new_population.extend(pool.starmap(crossover_and_mutate, args))

        # 새로운 세대로 업데이트
        population = new_population
        new_best_solution = min(population, key=lambda path: path_distance(path, distances))
        if path_distance(new_best_solution, distances) < path_distance(best_solution, distances):
            best_solution = new_best_solution
            no_improvement_count = 0
        else:
            no_improvement_count += 1

        # 조기 종료 조건
        if no_improvement_count >= max_no_improvement:
            break

    return best_solution

def initialize_population(cities, population_size, distances, pool):
    return pool.map(nearest_neighbor, [(cities, distances) for _ in range(population_size)])

def nearest_neighbor(args):
    cities, distances = args
    path = [random.choice(cities)]
    remaining_cities = set(cities) - {path[0]}

    while remaining_cities:
        current_city = path[-1]
        nearest_city = min(remaining_cities, key=lambda city: distances[current_city, city])
        path.append(nearest_city)
        remaining_cities.remove(nearest_city)

    return path

def select_parents(population, distances, pool, num_parents):
    tournament_size = 5
    fitnesses = pool.map(lambda path: path_distance(path, distances), population)
    parents = [min(random.sample(population, tournament_size), key=lambda path: fitnesses[population.index(path)]) for _ in range(num_parents)]
    return parents

def crossover_and_mutate(parent1, parent2, cities, distances):
    offspring = crossover(parent1, parent2, cities, distances)
    offspring = mutate(offspring, cities, distances)
    return offspring

def crossover(parent1, parent2, cities, distances):
    start, end = sorted(random.sample(range(1, len(parent1)), 2))
    offspring = parent1[:start] + a_star(parent1[start], parent1[end], cities, distances)
    offspring += parent1[end:]
    return offspring

def mutate(offspring, cities, distances):
    if random.random() < 0.1:
        i, j = sorted(random.sample(range(len(offspring)), 2))
        offspring = offspring[:i] + a_star(offspring[i], offspring[j], cities, distances)
        offspring += offspring[j:]
    return offspring

def path_distance(path, distances):
    distance = 0
    for i in range(len(path) - 1):
        distance += distances[path[i], path[i+1]]
    return distance

# 메인 함수
def main():
    num_cities = 1000
    cities = [City(random.randint(0, 100), random.randint(0, 100)) for _ in range(num_cities)]

    # 도시 간 거리 계산 및 저장
    distances = {(city1, city2): city1.manhattan_distance(city2) for city1 in cities for city2 in cities if city1 != city2}

    pool = Pool(processes=4)  # 4개의 프로세스 사용

    best_path = genetic_algorithm(cities, distances, population_size=200, num_generations=1000, pool=pool)
    print(f"최적 경로 길이: {path_distance(best_path, distances)}")
    pool.close()
    pool.join()

if name == "main":
    main()